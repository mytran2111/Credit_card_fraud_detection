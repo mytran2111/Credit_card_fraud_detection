{
 "cells": [
  {
   "cell_type": "code",
   "execution_count": 6,
   "metadata": {},
   "outputs": [
    {
     "name": "stdout",
     "output_type": "stream",
     "text": [
      "   Time        V1        V2        V3        V4        V5        V6        V7  \\\n",
      "0   0.0 -1.359807 -0.072781  2.536347  1.378155 -0.338321  0.462388  0.239599   \n",
      "1   0.0  1.191857  0.266151  0.166480  0.448154  0.060018 -0.082361 -0.078803   \n",
      "2   1.0 -1.358354 -1.340163  1.773209  0.379780 -0.503198  1.800499  0.791461   \n",
      "3   1.0 -0.966272 -0.185226  1.792993 -0.863291 -0.010309  1.247203  0.237609   \n",
      "4   2.0 -1.158233  0.877737  1.548718  0.403034 -0.407193  0.095921  0.592941   \n",
      "\n",
      "         V8        V9  ...       V21       V22       V23       V24       V25  \\\n",
      "0  0.098698  0.363787  ... -0.018307  0.277838 -0.110474  0.066928  0.128539   \n",
      "1  0.085102 -0.255425  ... -0.225775 -0.638672  0.101288 -0.339846  0.167170   \n",
      "2  0.247676 -1.514654  ...  0.247998  0.771679  0.909412 -0.689281 -0.327642   \n",
      "3  0.377436 -1.387024  ... -0.108300  0.005274 -0.190321 -1.175575  0.647376   \n",
      "4 -0.270533  0.817739  ... -0.009431  0.798278 -0.137458  0.141267 -0.206010   \n",
      "\n",
      "        V26       V27       V28  Amount  Class  \n",
      "0 -0.189115  0.133558 -0.021053  149.62      0  \n",
      "1  0.125895 -0.008983  0.014724    2.69      0  \n",
      "2 -0.139097 -0.055353 -0.059752  378.66      0  \n",
      "3 -0.221929  0.062723  0.061458  123.50      0  \n",
      "4  0.502292  0.219422  0.215153   69.99      0  \n",
      "\n",
      "[5 rows x 31 columns]\n",
      "Credit card Fraud Detection data contains rows: 284807 columns: 31\n",
      "fraud cases in test-set:  49\n",
      "The size of training set :  256326 \n",
      "the size of test set:  28481\n",
      "Accuracy training set is  0.9926538860669616\n",
      "Accuracy testing set is  0.9919244408553071\n",
      "test-set confusion matrix:\n",
      " [[28215   217]\n",
      " [   13    36]]\n",
      "recall score:  0.7346938775510204\n",
      "precision score:  0.1422924901185771\n",
      "f1 score:  0.23841059602649012\n"
     ]
    },
    {
     "data": {
      "image/png": "[encoded data removed]",
      "text/plain": [
       "<Figure size 432x288 with 1 Axes>"
      ]
     },
     "metadata": {
      "needs_background": "light"
     },
     "output_type": "display_data"
    },
    {
     "data": {
      "image/png": "[encoded data removed]",
      "text/plain": [
       "<Figure size 360x360 with 2 Axes>"
      ]
     },
     "metadata": {
      "needs_background": "light"
     },
     "output_type": "display_data"
    }
   ],
   "source": [
    "import numpy as np\n",
    "import pandas as pd\n",
    "import matplotlib.pyplot as plt\n",
    "import seaborn as sns \n",
    "from sklearn.naive_bayes import GaussianNB\n",
    "from sklearn.metrics import confusion_matrix\n",
    "from sklearn.model_selection import train_test_split\n",
    "from sklearn.datasets import load_iris\n",
    "from sklearn.metrics import recall_score, precision_score, accuracy_score, f1_score\n",
    "\n",
    "# Read data\n",
    "data = pd.read_csv('data/creditcard.csv')\n",
    "print(data.head())\n",
    "\n",
    "# Check the data \n",
    "print(\"Credit card Fraud Detection data contains rows:\", data.shape[0], \"columns:\", data.shape[1])\n",
    "\n",
    "# Visulazing data \n",
    "sns.countplot('Class', data=data)\n",
    "plt.title('Class Distributions \\n (0: Genuine || 1: Fraud)', fontsize=14)\n",
    "\n",
    "# Split data into training, validation, test set\n",
    "y = data[\"Class\"].values # our labels\n",
    "X = data.drop([\"Class\"] ,axis=1).values # our features\n",
    "X_train, X_valid, y_train, y_valid = train_test_split(X, y, test_size = 0.1, random_state=42, stratify=y) \n",
    "X_train, X_test, y_train, y_test = train_test_split(X,y, test_size = 0.1, random_state=42, stratify=y)\n",
    "print(\"fraud cases in test-set: \", sum(y_test))\n",
    "print(\"The size of training set : \", len(y_train),\"\\nthe size of test set: \", len(y_test))\n",
    "\n",
    "# Use Naive Bayes \n",
    "naive_bayes = GaussianNB()\n",
    "\n",
    "# Training data \n",
    "naive_bayes.fit(X_train,y_train)\n",
    "\n",
    "# Predict data \n",
    "y_pred = naive_bayes.predict(X_test)\n",
    "\n",
    "# Get the accuracy of our training data \n",
    "accuracy_train = accuracy_score(y_train, naive_bayes.predict(X_train))\n",
    "accuracy_test = accuracy_score(y_test, y_pred)\n",
    "\n",
    "print(\"Accuracy training set is \", accuracy_train)\n",
    "print(\"Accuracy testing set is \", accuracy_test)\n",
    "\n",
    "# Print scores \n",
    "def print_scores(y_test,y_pred):\n",
    "    print('test-set confusion matrix:\\n', confusion_matrix(y_test,y_pred)) \n",
    "    print(\"recall score: \", recall_score(y_test,y_pred))\n",
    "    print(\"precision score: \", precision_score(y_test,y_pred))\n",
    "    print(\"f1 score: \", f1_score(y_test,y_pred))\n",
    "\n",
    "print_scores(y_test, y_pred)\n",
    "\n",
    "# Get confusion matrix \n",
    "naive_bayes_confusion = confusion_matrix(y_test, y_pred)\n",
    "f, ax = plt.subplots(figsize=(5,5))\n",
    "sns.heatmap(naive_bayes_confusion, annot=True, linewidth=0.7, linecolor='black', fmt='g', ax=ax, cmap=\"BuPu\")\n",
    "plt.title('Naive Bayes Classification Confusion Matrix')\n",
    "plt.xlabel('Y predict')\n",
    "plt.ylabel('Y test')\n",
    "plt.show()"
   ]
  },
  {
   "cell_type": "code",
   "execution_count": null,
   "metadata": {},
   "outputs": [],
   "source": []
  },
  {
   "cell_type": "code",
   "execution_count": null,
   "metadata": {},
   "outputs": [],
   "source": []
  }
 ],
 "metadata": {
  "kernelspec": {
   "display_name": "Python 3",
   "language": "python",
   "name": "python3"
  },
  "language_info": {
   "codemirror_mode": {
    "name": "ipython",
    "version": 3
   },
   "file_extension": ".py",
   "mimetype": "text/x-python",
   "name": "python",
   "nbconvert_exporter": "python",
   "pygments_lexer": "ipython3",
   "version": "3.8.3"
  }
 },
 "nbformat": 4,
 "nbformat_minor": 4
}
